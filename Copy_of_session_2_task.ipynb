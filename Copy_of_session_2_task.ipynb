{
  "nbformat": 4,
  "nbformat_minor": 0,
  "metadata": {
    "colab": {
      "provenance": [],
      "include_colab_link": true
    },
    "kernelspec": {
      "name": "python3",
      "display_name": "Python 3"
    },
    "language_info": {
      "name": "python"
    }
  },
  "cells": [
    {
      "cell_type": "markdown",
      "metadata": {
        "id": "view-in-github",
        "colab_type": "text"
      },
      "source": [
        "<a href=\"https://colab.research.google.com/github/a3s0h/Python_questions.py/blob/main/Copy_of_session_2_task.ipynb\" target=\"_parent\"><img src=\"https://colab.research.google.com/assets/colab-badge.svg\" alt=\"Open In Colab\"/></a>"
      ]
    },
    {
      "cell_type": "markdown",
      "source": [
        "### `Problem 1`: Write a program that will give you in hand monthly salary after deduction on CTC - HRA(10%), DA(5%), PF(3%) and taxes deduction as below:\n",
        "\n",
        "> Salary(Lakhs) : Tax(%)\n",
        "\n",
        "*   Below 5 : 0%\n",
        "*   5-10 : 10%\n",
        "*   10-20 : 20%\n",
        "*   aboove 20 : 30%"
      ],
      "metadata": {
        "id": "w6RlOAXV2PWh"
      }
    },
    {
      "cell_type": "code",
      "source": [
        "# Write code here\n",
        "def salary(sal):\n",
        "  if sal < 5:\n",
        "    return sal\n",
        "  elif (5 <= sal) and (sal  < 10):\n",
        "    return sal-1-(sal/10) - (sal/20) - (sal*3/100) - (sal/10)\n",
        "  elif (10 <= sal) and (sal  <= 20):\n",
        "    return sal-1-(sal/10) - (sal/20) - (sal*3/100) - (sal*2/10)\n",
        "  elif (sal  > 20):\n",
        "    return sal-1-(sal/10) - (sal/20) - (sal*3/100) - (sal*3/10)\n",
        "\n",
        "sal = int(input(\"Enter salary: \"))\n",
        "salary(sal)"
      ],
      "metadata": {
        "id": "7tMHvKYO2etI",
        "colab": {
          "base_uri": "https://localhost:8080/"
        },
        "outputId": "d0bfb18d-2677-4a04-f91d-b6eaa74b7480"
      },
      "execution_count": null,
      "outputs": [
        {
          "name": "stdout",
          "output_type": "stream",
          "text": [
            "Enter salary: 2\n"
          ]
        },
        {
          "output_type": "execute_result",
          "data": {
            "text/plain": [
              "2"
            ]
          },
          "metadata": {},
          "execution_count": 52
        }
      ]
    },
    {
      "cell_type": "markdown",
      "source": [
        "### `Problem 2`: Write a program that take a user input of three angles and will find out whether it can form a triangle or not."
      ],
      "metadata": {
        "id": "tYzCGqwl2hfN"
      }
    },
    {
      "cell_type": "code",
      "source": [
        "# Write code here\n",
        "a = int(input())\n",
        "b = int(input())\n",
        "c = int(input())\n",
        "\n",
        "if a+b+c == 180:\n",
        "  print(\"Traingle\")\n",
        "else:\n",
        "  print(\"Not  a triangle \")"
      ],
      "metadata": {
        "id": "FYEqln-I2kxV",
        "colab": {
          "base_uri": "https://localhost:8080/"
        },
        "outputId": "2b2bbb24-96d3-4cee-abac-5f5727aeff90"
      },
      "execution_count": null,
      "outputs": [
        {
          "output_type": "stream",
          "name": "stdout",
          "text": [
            "3\n",
            "3\n",
            "0\n",
            "Not  a triangle \n"
          ]
        }
      ]
    },
    {
      "cell_type": "markdown",
      "source": [
        "### `Problem 3`: Write a program that will take user input of cost price and selling price and determines whether its a loss or a profit."
      ],
      "metadata": {
        "id": "5vEpPh8C2pE4"
      }
    },
    {
      "cell_type": "code",
      "source": [
        "# Write code here\n",
        "cost = int(input())\n",
        "sale = int(input())\n",
        "if cost > sale :\n",
        "  print(\"loss\")\n",
        "else:\n",
        "  print(\"profit\")"
      ],
      "metadata": {
        "id": "jDwBXlkO2sfl",
        "colab": {
          "base_uri": "https://localhost:8080/"
        },
        "outputId": "90bfa8e5-7ca9-429b-b0f3-b367444d151c"
      },
      "execution_count": null,
      "outputs": [
        {
          "output_type": "stream",
          "name": "stdout",
          "text": [
            "2\n",
            "3\n",
            "profit\n"
          ]
        }
      ]
    },
    {
      "cell_type": "markdown",
      "source": [
        "### `Problem 4`: Write a menu-driven program - \n",
        "1. cm to ft \n",
        "2. km to miles \n",
        "3. USD to INR \n",
        "4. exit"
      ],
      "metadata": {
        "id": "J_FG_cJW2ugT"
      }
    },
    {
      "cell_type": "code",
      "source": [
        "# Write code here\n",
        "\n",
        "while 1:\n",
        "  a = int(input(\"Enter choice 1>cm to ft   2>km to miles   3> USD to INR   4> exit\"))\n",
        "  if a == 1:\n",
        "    b = float(input(\"Enter a number: \"))\n",
        "    print(\"cm to ft: \",b/ 0.0328)\n",
        "  elif a == 2:\n",
        "    b = float(input(\"Enter a number: \"))\n",
        "    print(\"cm to ft: \",b/ 0.6213)\n",
        "  elif a == 3:\n",
        "    b = float(input(\"Enter a Currency: \"))\n",
        "    print(\"cm to ft: \",b/ 82.186)\n",
        "  elif a == 4:\n",
        "    break\n",
        "  else:\n",
        "    print(\"Invalid choice\")"
      ],
      "metadata": {
        "id": "yBHhaCGQ2zpD",
        "colab": {
          "base_uri": "https://localhost:8080/"
        },
        "outputId": "a48e102f-eac4-41f6-eefd-c20ef95efe78"
      },
      "execution_count": null,
      "outputs": [
        {
          "name": "stdout",
          "output_type": "stream",
          "text": [
            "Enter choice 1>cm to ft   2>km to miles   3> USD to INR   4> exit0\n",
            "Invalid choice\n",
            "Enter choice 1>cm to ft   2>km to miles   3> USD to INR   4> exit4\n"
          ]
        }
      ]
    },
    {
      "cell_type": "markdown",
      "source": [
        "### `Problem 5` - Exercise 12: Display Fibonacci series up to 10 terms.\n",
        "\n",
        "*Note: The Fibonacci Sequence is a series of numbers. The next number is found by adding up the two numbers before it. The first two numbers are 0 and 1. For example, 0, 1, 1, 2, 3, 5, 8, 13, 21. The next number in this series above is 13+21 = 34*"
      ],
      "metadata": {
        "id": "LJJ30_Yw27ZU"
      }
    },
    {
      "cell_type": "code",
      "source": [
        "# Write code here\n",
        "lst = [0,1]\n",
        "i=2\n",
        "while i < 10:\n",
        "  lst.append(lst[i-1] + lst[i-2])\n",
        "  i+=1\n",
        "print(lst)"
      ],
      "metadata": {
        "id": "ae_1rpe52-5R",
        "colab": {
          "base_uri": "https://localhost:8080/"
        },
        "outputId": "b7d0a709-15d7-4e18-a5b2-34ac9c38f8cb"
      },
      "execution_count": null,
      "outputs": [
        {
          "output_type": "stream",
          "name": "stdout",
          "text": [
            "[0, 1, 1, 2, 3, 5, 8, 13, 21, 34]\n"
          ]
        }
      ]
    },
    {
      "cell_type": "markdown",
      "source": [
        "### `Problem 6` - Find the factorial of a given number.\n",
        "\n",
        "Write a program to use the loop to find the factorial of a given number.\n",
        "\n",
        "The factorial (symbol: `!`) means to multiply all whole numbers from the chosen number down to 1.\n",
        "\n",
        "For example: calculate the factorial of 5\n",
        "\n",
        "```bash\n",
        "5! = 5 × 4 × 3 × 2 × 1 = 120\n",
        "```\n",
        "\n",
        "Output: \n",
        "\n",
        "```bash\n",
        "120\n",
        "```"
      ],
      "metadata": {
        "id": "pk_I_S4m3PT5"
      }
    },
    {
      "cell_type": "code",
      "source": [
        "# Write code here\n",
        "def fact(num):\n",
        "  if num==1:\n",
        "    return num\n",
        "  return num * fact(num-1)\n",
        "\n",
        "\n",
        "num = int(input(\"Enter a number: \"))\n",
        "print(fact(num))"
      ],
      "metadata": {
        "id": "lzXxHegx3Rkc",
        "colab": {
          "base_uri": "https://localhost:8080/"
        },
        "outputId": "855974b5-e166-44ce-eb42-6491d9008026"
      },
      "execution_count": null,
      "outputs": [
        {
          "output_type": "stream",
          "name": "stdout",
          "text": [
            "Enter a number: 3\n",
            "6\n"
          ]
        }
      ]
    },
    {
      "cell_type": "markdown",
      "source": [
        "### `Problem 7` - Reverse a given integer number.\n",
        "\n",
        "Example:\n",
        "\n",
        "`Input:`\n",
        "\n",
        "```bash\n",
        "76542\n",
        "```\n",
        "\n",
        "`Output:`\n",
        "\n",
        "```bash\n",
        "24567\n",
        "```"
      ],
      "metadata": {
        "id": "-17IOi-g3UpU"
      }
    },
    {
      "cell_type": "code",
      "source": [
        "# Write code here\n",
        "num = int(input())\n",
        "ans  =0\n",
        "while num > 0:\n",
        "  temp = num%10\n",
        "  ans = ans*10 + temp\n",
        "  num = (num//10)\n",
        "\n",
        "print(ans)"
      ],
      "metadata": {
        "id": "wJwLpKCr3aVA",
        "colab": {
          "base_uri": "https://localhost:8080/"
        },
        "outputId": "f07ad4d1-1776-4be4-ca75-36584c4eea62"
      },
      "execution_count": null,
      "outputs": [
        {
          "output_type": "stream",
          "name": "stdout",
          "text": [
            "0\n",
            "0\n"
          ]
        }
      ]
    },
    {
      "cell_type": "markdown",
      "source": [
        "### `Problem 8`: Take a user input as integer N. Find out the sum from 1 to N. If any number if divisible by 5, then skip that number. And if the sum is greater than 300, don't need to calculate the sum further more. Print the final result. And don't use for loop to solve this problem.\n",
        "\n",
        "**Example 1:**\n",
        "\n",
        "`Input:`\n",
        "\n",
        "```bash\n",
        "30\n",
        "```\n",
        "\n",
        "`Output:`\n",
        "\n",
        "```bash\n",
        "276\n",
        "```"
      ],
      "metadata": {
        "id": "-t8PJQaY3sHf"
      }
    },
    {
      "cell_type": "code",
      "source": [
        "# Write code here\n",
        "num = int(input())\n",
        "i=1\n",
        "sum=0\n",
        "for i in range(num):\n",
        "  if i % 5 == 0:\n",
        "    continue\n",
        "  sum+=i\n",
        "  if sum > 300:\n",
        "    break\n",
        "print(sum)"
      ],
      "metadata": {
        "id": "GZB6mGMP3ujT",
        "colab": {
          "base_uri": "https://localhost:8080/"
        },
        "outputId": "4d76d417-d98a-4422-a55e-4c88dc1b9d7d"
      },
      "execution_count": null,
      "outputs": [
        {
          "output_type": "stream",
          "name": "stdout",
          "text": [
            "2\n",
            "1\n"
          ]
        }
      ]
    },
    {
      "cell_type": "markdown",
      "source": [
        "### `Problem 9`: Write a program that keeps on accepting a number from the user until the user enters Zero. Display the sum and average of all the numbers."
      ],
      "metadata": {
        "id": "Q7ggImeA3xm4"
      }
    },
    {
      "cell_type": "code",
      "source": [
        "# Write code here\n",
        "sum = 0\n",
        "avg = 0\n",
        "i=1\n",
        "while 1:\n",
        "  num = int(input())\n",
        "  if num == 0:\n",
        "    break\n",
        "  else:\n",
        "    sum+= num\n",
        "    avg  = sum/i\n",
        "  i+=1\n",
        "print(\"sum: \",sum,\"avg : \",avg)"
      ],
      "metadata": {
        "id": "t_YDSZDe4Kdo",
        "colab": {
          "base_uri": "https://localhost:8080/"
        },
        "outputId": "c1b5e344-d40a-42f0-998c-aef2bbb010b7"
      },
      "execution_count": null,
      "outputs": [
        {
          "output_type": "stream",
          "name": "stdout",
          "text": [
            "0\n",
            "sum:  0 avg :  0\n"
          ]
        }
      ]
    },
    {
      "cell_type": "markdown",
      "source": [
        "###`Problem 9`: Write a program which will find all such numbers which are divisible by 7 but are not a multiple of 5, between 2000 and 3200 (both included). The numbers obtained should be printed in a comma-separated sequence on a single line."
      ],
      "metadata": {
        "id": "6EhvEMvm4R7s"
      }
    },
    {
      "cell_type": "code",
      "source": [
        "# Write code here\n",
        "# lst = []\n",
        "# for i in range(2000,3200):\n",
        "#   if i%7==0 and ~(i%5 ==0):\n",
        "#     lst.append(i)\n",
        "  \n",
        "# list to sting 1st meathod \n",
        "# myString = \"\"\n",
        "# for elem in lst:\n",
        "#     myString = myString + str(elem) + \",\"\n",
        "# print(myString)\n",
        "  \n",
        "\n",
        "\n",
        "# meathod 2\n",
        "lst = []\n",
        "for i in range(2000,3200):\n",
        "  if i%7==0 and ~(i%5 ==0):\n",
        "    lst.append(i)\n",
        "\n",
        "\n",
        "print(\" \".join(str(elem) for elem in lst))\n",
        "               "
      ],
      "metadata": {
        "id": "d6RgP1B34T6c",
        "colab": {
          "base_uri": "https://localhost:8080/",
          "height": 322
        },
        "outputId": "b458d6c5-5940-4ff4-bc62-cea527fa77bf"
      },
      "execution_count": null,
      "outputs": [
        {
          "output_type": "error",
          "ename": "TypeError",
          "evalue": "ignored",
          "traceback": [
            "\u001b[0;31m---------------------------------------------------------------------------\u001b[0m",
            "\u001b[0;31mTypeError\u001b[0m                                 Traceback (most recent call last)",
            "\u001b[0;32m<ipython-input-65-c754ad82ba58>\u001b[0m in \u001b[0;36m<module>\u001b[0;34m\u001b[0m\n\u001b[1;32m     20\u001b[0m \u001b[0;34m\u001b[0m\u001b[0m\n\u001b[1;32m     21\u001b[0m \u001b[0;34m\u001b[0m\u001b[0m\n\u001b[0;32m---> 22\u001b[0;31m \u001b[0mprint\u001b[0m\u001b[0;34m(\u001b[0m\u001b[0;34m\" \"\u001b[0m\u001b[0;34m.\u001b[0m\u001b[0mjoin\u001b[0m\u001b[0;34m(\u001b[0m\u001b[0mstr\u001b[0m\u001b[0;34m(\u001b[0m\u001b[0melem\u001b[0m\u001b[0;34m)\u001b[0m \u001b[0;32mfor\u001b[0m \u001b[0melem\u001b[0m \u001b[0;32min\u001b[0m \u001b[0mlst\u001b[0m\u001b[0;34m)\u001b[0m\u001b[0;34m)\u001b[0m\u001b[0;34m\u001b[0m\u001b[0;34m\u001b[0m\u001b[0m\n\u001b[0m\u001b[1;32m     23\u001b[0m \u001b[0;34m\u001b[0m\u001b[0m\n",
            "\u001b[0;32m<ipython-input-65-c754ad82ba58>\u001b[0m in \u001b[0;36m<genexpr>\u001b[0;34m(.0)\u001b[0m\n\u001b[1;32m     20\u001b[0m \u001b[0;34m\u001b[0m\u001b[0m\n\u001b[1;32m     21\u001b[0m \u001b[0;34m\u001b[0m\u001b[0m\n\u001b[0;32m---> 22\u001b[0;31m \u001b[0mprint\u001b[0m\u001b[0;34m(\u001b[0m\u001b[0;34m\" \"\u001b[0m\u001b[0;34m.\u001b[0m\u001b[0mjoin\u001b[0m\u001b[0;34m(\u001b[0m\u001b[0mstr\u001b[0m\u001b[0;34m(\u001b[0m\u001b[0melem\u001b[0m\u001b[0;34m)\u001b[0m \u001b[0;32mfor\u001b[0m \u001b[0melem\u001b[0m \u001b[0;32min\u001b[0m \u001b[0mlst\u001b[0m\u001b[0;34m)\u001b[0m\u001b[0;34m)\u001b[0m\u001b[0;34m\u001b[0m\u001b[0;34m\u001b[0m\u001b[0m\n\u001b[0m\u001b[1;32m     23\u001b[0m \u001b[0;34m\u001b[0m\u001b[0m\n",
            "\u001b[0;31mTypeError\u001b[0m: 'str' object is not callable"
          ]
        }
      ]
    },
    {
      "cell_type": "markdown",
      "source": [
        "###`Problem 10`: Write a program, which will find all such numbers between 1000 and 3000 (both included) such that each digit of the number is an even number. The numbers obtained should be printed in a space-separated sequence on a single line.\n",
        "\n"
      ],
      "metadata": {
        "id": "tYvmRR-G4Vp4"
      }
    },
    {
      "cell_type": "code",
      "source": [
        "# Write code here\n",
        "lst= []\n",
        "for i in range(1000,3001):\n",
        "  if (i%10) % 2 == 0:\n",
        "    lst.append(i)\n",
        "  \n",
        "str = str(lst).strip(\"[]\")\n",
        "print(str.replace(',',' '))"
      ],
      "metadata": {
        "id": "k6Gs1kIf4k19",
        "colab": {
          "base_uri": "https://localhost:8080/",
          "height": 218
        },
        "outputId": "73c61fc5-1699-46c6-af53-fdac0133a4bf"
      },
      "execution_count": null,
      "outputs": [
        {
          "output_type": "error",
          "ename": "TypeError",
          "evalue": "ignored",
          "traceback": [
            "\u001b[0;31m---------------------------------------------------------------------------\u001b[0m",
            "\u001b[0;31mTypeError\u001b[0m                                 Traceback (most recent call last)",
            "\u001b[0;32m<ipython-input-66-f3b63bd00cdd>\u001b[0m in \u001b[0;36m<module>\u001b[0;34m\u001b[0m\n\u001b[1;32m      5\u001b[0m     \u001b[0mlst\u001b[0m\u001b[0;34m.\u001b[0m\u001b[0mappend\u001b[0m\u001b[0;34m(\u001b[0m\u001b[0mi\u001b[0m\u001b[0;34m)\u001b[0m\u001b[0;34m\u001b[0m\u001b[0;34m\u001b[0m\u001b[0m\n\u001b[1;32m      6\u001b[0m \u001b[0;34m\u001b[0m\u001b[0m\n\u001b[0;32m----> 7\u001b[0;31m \u001b[0mstr\u001b[0m \u001b[0;34m=\u001b[0m \u001b[0mstr\u001b[0m\u001b[0;34m(\u001b[0m\u001b[0mlst\u001b[0m\u001b[0;34m)\u001b[0m\u001b[0;34m.\u001b[0m\u001b[0mstrip\u001b[0m\u001b[0;34m(\u001b[0m\u001b[0;34m\"[]\"\u001b[0m\u001b[0;34m)\u001b[0m\u001b[0;34m\u001b[0m\u001b[0;34m\u001b[0m\u001b[0m\n\u001b[0m\u001b[1;32m      8\u001b[0m \u001b[0mprint\u001b[0m\u001b[0;34m(\u001b[0m\u001b[0mstr\u001b[0m\u001b[0;34m.\u001b[0m\u001b[0mreplace\u001b[0m\u001b[0;34m(\u001b[0m\u001b[0;34m','\u001b[0m\u001b[0;34m,\u001b[0m\u001b[0;34m' '\u001b[0m\u001b[0;34m)\u001b[0m\u001b[0;34m)\u001b[0m\u001b[0;34m\u001b[0m\u001b[0;34m\u001b[0m\u001b[0m\n",
            "\u001b[0;31mTypeError\u001b[0m: 'str' object is not callable"
          ]
        }
      ]
    },
    {
      "cell_type": "markdown",
      "source": [
        "###`Problem 11`: A robot moves in a plane starting from the original point (0,0). The robot can move toward UP, DOWN, LEFT and RIGHT with a given steps. \n",
        "The trace of robot movement is shown as the following:\n",
        "```\n",
        "UP 5\n",
        "DOWN 3\n",
        "LEFT 3\n",
        "RIGHT 2\n",
        "!\n",
        "```\n",
        "> The numbers after the direction are steps. \n",
        "\n",
        "> `!` means robot stop there.\n",
        "\n",
        "**Please write a program to compute the distance from current position after a sequence of movement and original point.** \n",
        "\n",
        "*If the distance is a float, then just print the nearest integer.*\n",
        "\n",
        "Example:\n",
        "\n",
        "`Input`:\n",
        "```\n",
        "UP 5\n",
        "DOWN 3\n",
        "LEFT 3\n",
        "RIGHT 2\n",
        "!\n",
        "```\n",
        "`Output`:\n",
        "```\n",
        "2\n",
        "```"
      ],
      "metadata": {
        "id": "GV18IINT4mf5"
      }
    },
    {
      "cell_type": "code",
      "source": [
        "# Write code here\n",
        "a=0\n",
        "b=0\n",
        "while 1:\n",
        "  direction = input()\n",
        "  dist = int(input())\n",
        "  if direction == \"U\":\n",
        "    a += dist\n",
        "  elif direction == \"D\":\n",
        "    a -= dist\n",
        "  elif direction == \"R\":\n",
        "    b += dist\n",
        "  elif direction == 'L':\n",
        "    b -= dist\n",
        "  elif direction == \"!\":\n",
        "    break\n",
        "import numpy as np\n",
        "print(\"Distance : \",round(np.sqrt(a**2 + b**2)))"
      ],
      "metadata": {
        "id": "6UNMC2aR4w5x",
        "colab": {
          "base_uri": "https://localhost:8080/"
        },
        "outputId": "48572adf-6b36-474a-f66e-b5a7ed2e3826"
      },
      "execution_count": null,
      "outputs": [
        {
          "output_type": "stream",
          "name": "stdout",
          "text": [
            "U\n",
            "5\n",
            "D\n",
            "3\n",
            "L\n",
            "3\n",
            "R\n",
            "2\n",
            "!\n",
            "3\n",
            "2\n"
          ]
        }
      ]
    },
    {
      "cell_type": "markdown",
      "source": [
        "###`Problem 12`:Write a program to print whether a given number is a prime number or not"
      ],
      "metadata": {
        "id": "3fsAIAhK5GYY"
      }
    },
    {
      "cell_type": "code",
      "source": [
        "# Write code here\n",
        "num = int(input())\n",
        "prime = True\n",
        "i = 2\n",
        "while i < num:\n",
        "  if num%(i) == 0:\n",
        "    print(\"not prime\")\n",
        "    prime = False\n",
        "    break\n",
        "  i += 1\n",
        "if prime == True:\n",
        "  print(\"prime\")"
      ],
      "metadata": {
        "id": "j6y91lxy5LZs",
        "colab": {
          "base_uri": "https://localhost:8080/"
        },
        "outputId": "c6b1c661-ca96-41cf-d73b-2eed43f3add1"
      },
      "execution_count": null,
      "outputs": [
        {
          "output_type": "stream",
          "name": "stdout",
          "text": [
            "2\n",
            "prime\n"
          ]
        }
      ]
    },
    {
      "cell_type": "markdown",
      "source": [
        "###`Problem 13`:Print all the Armstrong numbers in a given range.\n",
        "Range will be provided by the user<br>\n",
        "Armstrong number is a number that is equal to the sum of cubes of its digits. For example 0, 1, 153, 370, 371 and 407 are the Armstrong numbers."
      ],
      "metadata": {
        "id": "asAbmbK-5NHv"
      }
    },
    {
      "cell_type": "code",
      "source": [
        "# Write code here\n",
        "num = int(input())\n",
        "num_copy = num\n",
        "ans = 0\n",
        "while num_copy > 0:\n",
        "  temp = num_copy%10\n",
        "  ans = temp ** 3+ans\n",
        "  num_copy = num_copy//10\n",
        "\n",
        "\n",
        "if ans == num:\n",
        "  print(\"armstrong number\")\n",
        "else:\n",
        "  print(\"Not\")"
      ],
      "metadata": {
        "id": "PZuI67pm5jCT",
        "colab": {
          "base_uri": "https://localhost:8080/"
        },
        "outputId": "8ac132b9-4412-455e-c1d4-ba3ec6ebda1e"
      },
      "execution_count": null,
      "outputs": [
        {
          "output_type": "stream",
          "name": "stdout",
          "text": [
            "3\n",
            "Not\n"
          ]
        }
      ]
    },
    {
      "cell_type": "markdown",
      "source": [
        "###`Problem 14`:Calculate the angle between the hour hand and minute hand.\n",
        "\n",
        "Note: There can be two angles between hands; we need to print a minimum of two. Also, we need to print the floor of the final result angle. For example, if the final angle is 10.61, we need to print 10.\n",
        "\n",
        "Input:<br>\n",
        "H = 9 , M = 0<br>\n",
        "Output:<br>\n",
        "90<br>\n",
        "Explanation:<br>\n",
        "The minimum angle between hour and minute\n",
        "hand when the time is 9 is 90 degress."
      ],
      "metadata": {
        "id": "ClCQZMqT7gK0"
      }
    },
    {
      "cell_type": "code",
      "source": [
        "# Write code here\n",
        "\n",
        "\n",
        "def calcAngle(h,m):\n",
        "\t\t# validate the input\n",
        "\t\tif (h < 0 or m < 0 or h > 12 or m > 60):\n",
        "\t\t\tprint('Wrong input')\n",
        "\t\tif (h == 12):\n",
        "\t\t\th = 0\n",
        "\t\tif (m == 60):\n",
        "\t\t\tm = 0\n",
        "\t\t\th += 1;\n",
        "\t\t\tif(h>12):\n",
        "\t\t\t\th = h-12;\n",
        "\t\t# Calculate the angles moved by\n",
        "\t\t# hour and minute hands with\n",
        "\t\t# reference to 12:00\n",
        "\t\thour_angle = 0.5 * (h * 60 + m)\n",
        "\t\tminute_angle = 6 * m\n",
        "\t\t# Find the difference between two angles\n",
        "\t\tangle = abs(hour_angle - minute_angle)\n",
        "\t\t# Return the smaller angle of two\n",
        "\t\t# possible angles\n",
        "\t\tangle = min(360 - angle, angle)\n",
        "\t\treturn angle\n",
        "print(\"Input: \")\n",
        "h,m = map(int,input().split())\n",
        "print('Angle ', calcAngle(h,m))"
      ],
      "metadata": {
        "id": "tNBTCZML7jy_"
      },
      "execution_count": null,
      "outputs": []
    },
    {
      "cell_type": "markdown",
      "source": [
        "###`Problem 15`:Given two rectangles, find if the given two rectangles overlap or not. A rectangle is denoted by providing the x and y coordinates of two points: the left top corner and the right bottom corner of the rectangle. Two rectangles sharing a side are considered overlapping. (L1 and R1 are the extreme points of the first rectangle and L2 and R2 are the extreme points of the second rectangle).\n",
        "\n",
        "Note: It may be assumed that the rectangles are parallel to the coordinate axis.\n",
        "\n",
        "<img src='https://www.geeksforgeeks.org/wp-content/uploads/rectanglesOverlap.png' width='300' height='200'>"
      ],
      "metadata": {
        "id": "GwacF9Co72Qc"
      }
    },
    {
      "cell_type": "code",
      "source": [
        "# Write code here"
      ],
      "metadata": {
        "id": "6rrw_lpH78Rs"
      },
      "execution_count": null,
      "outputs": []
    }
  ]
}