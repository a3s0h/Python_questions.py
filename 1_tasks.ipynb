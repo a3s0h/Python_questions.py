{
  "nbformat": 4,
  "nbformat_minor": 0,
  "metadata": {
    "colab": {
      "provenance": [],
      "include_colab_link": true
    },
    "kernelspec": {
      "name": "python3",
      "display_name": "Python 3"
    },
    "language_info": {
      "name": "python"
    }
  },
  "cells": [
    {
      "cell_type": "markdown",
      "metadata": {
        "id": "view-in-github",
        "colab_type": "text"
      },
      "source": [
        "<a href=\"https://colab.research.google.com/github/a3s0h/Python_questions.py/blob/main/1_tasks.ipynb\" target=\"_parent\"><img src=\"https://colab.research.google.com/assets/colab-badge.svg\" alt=\"Open In Colab\"/></a>"
      ]
    },
    {
      "cell_type": "markdown",
      "source": [
        "# Task : Session 1\n",
        "Solve these questions own your own and try to test yourself what you have learned in the session.\n",
        "\n",
        "Happy Learning!"
      ],
      "metadata": {
        "id": "A05OG15VqOPF"
      }
    },
    {
      "cell_type": "markdown",
      "source": [
        "### Q1 :- Print the given strings as per stated format.\n",
        "\n",
        "**Given strings**: \n",
        "```\n",
        "\"Data\" \"Science\" \"Mentorship\" \"Program\" \n",
        "\"By\" \"CampusX\"\n",
        "```\n",
        "**Output**: \n",
        "``` \n",
        "Data-Science-Mentorship-Program-started-By-CampusX\n",
        "```\n",
        "\n",
        "Concept- [Seperator and End]"
      ],
      "metadata": {
        "id": "2doIXf8bqe9_"
      }
    },
    {
      "cell_type": "code",
      "source": [
        "# Write your code here\n",
        "print(\"Data\" ,\"Science\" ,\"Mentorship\" ,\"Program\" \n",
        ",\"By\" ,\"CampusX\",sep='-')"
      ],
      "metadata": {
        "id": "-em6d3KErDtp",
        "colab": {
          "base_uri": "https://localhost:8080/"
        },
        "outputId": "c7597c0d-2028-4a71-a684-dd04b22c371a"
      },
      "execution_count": 1,
      "outputs": [
        {
          "output_type": "stream",
          "name": "stdout",
          "text": [
            "Data-Science-Mentorship-Program-By-CampusX\n"
          ]
        }
      ]
    },
    {
      "cell_type": "markdown",
      "source": [
        "### Q2:- Write a program that will convert celsius value to fahrenheit."
      ],
      "metadata": {
        "id": "1KUpN7ZTrC3_"
      }
    },
    {
      "cell_type": "markdown",
      "source": [
        " °F = (°C × 9/5) + 32"
      ],
      "metadata": {
        "id": "tBKMgve2_gB5"
      }
    },
    {
      "cell_type": "code",
      "source": [
        "# Write your code here\n",
        "def to_farhenhite(celcius):\n",
        "  return (celcius * (9/5))+32\n",
        "\n",
        "celcius = int(input(\"Enter value: \"))\n",
        "print(to_farhenhite(celcius))"
      ],
      "metadata": {
        "id": "yxKYhYQiqWfj",
        "colab": {
          "base_uri": "https://localhost:8080/"
        },
        "outputId": "444281f7-5ee8-4d0f-fabf-b49d0d01be8e"
      },
      "execution_count": 2,
      "outputs": [
        {
          "output_type": "stream",
          "name": "stdout",
          "text": [
            "Enter value: 3\n",
            "37.4\n"
          ]
        }
      ]
    },
    {
      "cell_type": "markdown",
      "source": [
        "### Q3:- Take 2 numbers as input from the user.Write a program to swap the numbers without using any special python syntax."
      ],
      "metadata": {
        "id": "RLrOBBJurLB2"
      }
    },
    {
      "cell_type": "code",
      "source": [
        "# Write your code here\n",
        "a =int(input())\n",
        "b =int(input())\n",
        "print(\"Before swapping  a = \",a,\" and b = \",b)\n",
        "z = b\n",
        "b = a\n",
        "a= z\n",
        "print(\"after swapping  a = \",a,\" and b = \",b)"
      ],
      "metadata": {
        "id": "yPn7if0TrJ4F",
        "colab": {
          "base_uri": "https://localhost:8080/"
        },
        "outputId": "6aa08286-9987-49c6-aa1f-4ade3ad41f31"
      },
      "execution_count": 3,
      "outputs": [
        {
          "output_type": "stream",
          "name": "stdout",
          "text": [
            "4\n",
            "5\n",
            "Before swapping  a =  4  and b =  5\n",
            "after swapping  a =  5  and b =  4\n"
          ]
        }
      ]
    },
    {
      "cell_type": "markdown",
      "source": [
        "### Q4:- Write a program to find the euclidean distance between two coordinates.Take both the coordinates from the user as input."
      ],
      "metadata": {
        "id": "waLCP1bjr7ML"
      }
    },
    {
      "cell_type": "code",
      "source": [
        "# Write your code here\n",
        "AXES = ('x', 'y')\n",
        "\n",
        "import numpy as np\n",
        "def distance(a,b):\n",
        "  return np.sqrt((b[0]-a[0])**2 + (b[1]-a[1])**2)\n",
        "\n",
        "\n",
        "def input_vector(axes):\n",
        "    values = []\n",
        "    string = \"Enter the coordinate of \"\n",
        "    for coord in axes:\n",
        "        values.append(int(input(string + coord)))\n",
        "    return values\n",
        "\n",
        "vectors = []\n",
        "for i in range(2):\n",
        "    vectors.append(input_vector(AXES))\n",
        "\n",
        "\n",
        "print(distance(vectors[0],vectors[1]))"
      ],
      "metadata": {
        "id": "Pl1Sv-xnrxnH",
        "colab": {
          "base_uri": "https://localhost:8080/"
        },
        "outputId": "7f6a9939-5233-4ca5-9fd4-54a207d8eb62"
      },
      "execution_count": 4,
      "outputs": [
        {
          "output_type": "stream",
          "name": "stdout",
          "text": [
            "Enter the coordinate of x1\n",
            "Enter the coordinate of y2\n",
            "Enter the coordinate of x3\n",
            "Enter the coordinate of y4\n",
            "2.8284271247461903\n"
          ]
        }
      ]
    },
    {
      "cell_type": "markdown",
      "source": [
        "### Q5:- Write a program to find the simple interest when the value of principle,rate of interest and time period is provided by the user.\n"
      ],
      "metadata": {
        "id": "VLrhg-FRsHjR"
      }
    },
    {
      "cell_type": "markdown",
      "source": [
        "Simple Interest = Principal * Interest Rate * Time Period"
      ],
      "metadata": {
        "id": "c_emg0xlQGM8"
      }
    },
    {
      "cell_type": "code",
      "source": [
        "# Write your code here\n",
        "def si(p,ir,tp):\n",
        "  return p*ir*tp\n",
        "\n",
        "p = int(input())\n",
        "ir = int(input())\n",
        "tp = int(input())\n",
        "print(si(p,ir,tp))"
      ],
      "metadata": {
        "id": "s40DlReZsTmY",
        "colab": {
          "base_uri": "https://localhost:8080/"
        },
        "outputId": "f4327bc3-0251-4988-98e3-deb0a30aa3a4"
      },
      "execution_count": 5,
      "outputs": [
        {
          "output_type": "stream",
          "name": "stdout",
          "text": [
            "4\n",
            "5\n",
            "6\n",
            "120\n"
          ]
        }
      ]
    },
    {
      "cell_type": "markdown",
      "source": [
        "### Q6:- Write a program that will tell the number of dogs and chicken are there when the user will provide the value of total heads and legs.\n",
        "\n",
        "For example:\n",
        "Input:\n",
        "heads -> 4\n",
        "legs -> 12\n",
        "<br>\n",
        "Output:\n",
        "dogs -> 2\n",
        "chicken -> 2\n",
        "\n",
        "\n",
        "\n"
      ],
      "metadata": {
        "id": "LMy0BTUktYKa"
      }
    },
    {
      "cell_type": "code",
      "source": [
        "# Write your code here"
      ],
      "metadata": {
        "id": "XSBvJoA4tXaG"
      },
      "execution_count": 6,
      "outputs": []
    },
    {
      "cell_type": "markdown",
      "source": [
        "### Q7:- Write a program to find the sum of squares of first n natural numbers where n will be provided by the user."
      ],
      "metadata": {
        "id": "gJ7C5kZYt4BP"
      }
    },
    {
      "cell_type": "code",
      "source": [
        "# Write your code here using recursion\n",
        "def sun(x):\n",
        "  if x == 0:\n",
        "    return 0\n",
        "  return x**2+sun(x-1)\n",
        "\n",
        "a = int(input())\n",
        "print(sun(a))"
      ],
      "metadata": {
        "id": "_tHsmEHzt2nX",
        "colab": {
          "base_uri": "https://localhost:8080/"
        },
        "outputId": "16dc7899-e472-4258-881b-d8c709385b4a"
      },
      "execution_count": 7,
      "outputs": [
        {
          "output_type": "stream",
          "name": "stdout",
          "text": [
            "4\n",
            "30\n"
          ]
        }
      ]
    },
    {
      "cell_type": "markdown",
      "source": [
        "### Q8:- Given the first 2 terms of an Arithmetic Series.Find the Nth term of the series. Assume all inputs are provided by the user."
      ],
      "metadata": {
        "id": "FHrMM7g-yG1h"
      }
    },
    {
      "cell_type": "code",
      "source": [
        "# Write your code here\n",
        "def create_ap(a,b,n):\n",
        "  ap = []\n",
        "  ap.append(a)\n",
        "  ap.append(b)\n",
        "  d = b-a\n",
        "  i=2\n",
        "  while(i<n):\n",
        "    ap.append(b+d)\n",
        "    a = b\n",
        "    b=b+d\n",
        "    i += 1\n",
        "  return ap\n",
        "a = int(input(\"First term : \"))\n",
        "b=int(input(\"second term : \"))\n",
        "n = int(input(\"Number of terms\"))\n",
        "print(create_ap(a,b,n))"
      ],
      "metadata": {
        "id": "go4_kmZmyVSx",
        "colab": {
          "base_uri": "https://localhost:8080/"
        },
        "outputId": "ee4c7657-e801-4811-e08e-f4aebaafad03"
      },
      "execution_count": 8,
      "outputs": [
        {
          "output_type": "stream",
          "name": "stdout",
          "text": [
            "First term : 3\n",
            "second term : 4\n",
            "Number of terms5\n",
            "[3, 4, 5, 6, 7]\n"
          ]
        }
      ]
    },
    {
      "cell_type": "markdown",
      "source": [
        "### Q9:- Given 2 fractions, find the sum of those 2 fractions.Take the numerator and denominator values of the fractions from the user."
      ],
      "metadata": {
        "id": "QgyRX_es1oum"
      }
    },
    {
      "cell_type": "code",
      "source": [
        "# Write your code here"
      ],
      "metadata": {
        "id": "X05xqFS1yW16"
      },
      "execution_count": 9,
      "outputs": []
    },
    {
      "cell_type": "markdown",
      "source": [
        "### Q10:- Given the height, width and breadth of a milk tank, you have to find out how many glasses of milk can be obtained? Assume all the inputs are provided by the user.\n",
        "\n",
        "\n",
        "\n",
        "Input:<br>\n",
        "Dimensions of the milk tank<br>\n",
        "H = 20cm, L = 20cm, B = 20cm\n",
        "<br><br>\n",
        "Dimensions of the glass<br>\n",
        "h = 3cm, r = 1cm"
      ],
      "metadata": {
        "id": "eaql38ln13u7"
      }
    },
    {
      "cell_type": "code",
      "source": [
        "# Write your code here"
      ],
      "metadata": {
        "id": "FePZqno74eWv"
      },
      "execution_count": 10,
      "outputs": []
    }
  ]
}